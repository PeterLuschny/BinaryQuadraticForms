{
 "cells": [
  {
   "cell_type": "markdown",
   "metadata": {},
   "source": [
    "<h1 style=\"width: 600px; text-align: center; background: #FF9900; color: yellow; \n",
    "letter-spacing: 2px; line-height: 110%; font-weight:bold;\">Positive Numbers<br /> represented by a<br />Binary Quadratic Form</h1>"
   ]
  },
  {
   "cell_type": "markdown",
   "metadata": {},
   "source": [
    "<div style=\"width: 600px; text-align: justify;\">\n",
    "<hr style=\"width:610px; background-color:maroon; height:8px; margin-right:0; \" />\n",
    "<h2 style=\"color: maroon;\">Introduction</h2>"
   ]
  },
  {
   "cell_type": "markdown",
   "metadata": {},
   "source": [
    "<h3 style=\"color: maroon;\">Definitions</h3>"
   ]
  },
  {
   "cell_type": "markdown",
   "metadata": {},
   "source": [
    "<div style=\"width: 600px; text-align: justify;\">\n",
    "\n",
    "A binary quadratic form over Z is a quadratic homogeneous polynomial in two variables with integer coefficients, $ q(x, y) = ax^2 + bxy + cy^2 $. It is conveniently given by a list or tuple of 3 entries: $ (a, b, c) $.\n",
    "\n",
    "A quadratic form $q(x, y)$ represents an integer $n$ if there exist integers $x$ and $y$ with $q(x, y) = n$. \n",
    "We say that $q$ primitively represents $n$ if there exist relatively prime integers $x$ and $y$ such that $q(x, y) = n$.\n",
    "\n",
    "Positive definite forms are definite forms with $a > 0$. They can only represent positive numbers. \n",
    "Negative definite forms are definite forms with $a < 0$. They can represent only negative numbers. \n",
    "Indefinite forms can represent both positive and negative numbers.\n",
    "\n",
    "The discriminant of a nondegenerate binary quadratic form is $b^2 - 4ac$. \n",
    "Inequivalent forms may have the same discriminant. \n",
    "Quadratic forms with different discriminants cannot be equivalent.\n",
    "\n",
    "The aim of this notebook is to implement methods for calculating the numbers represented by a binary quadratic form in a uniform and efficient way \n",
    "using the Sage engine. It was inspired by the Wiki page on OEIS created by N. J. A. Sloane <a href=\"http://oeis.org/wiki/Binary_Quadratic_Forms_and_OEIS\">\"Binary Quadratic Forms and OEIS\"</a>. </div>"
   ]
  },
  {
   "cell_type": "markdown",
   "metadata": {},
   "source": [
    "<h3 style=\"color: maroon;\">Geometric view</h3>"
   ]
  },
  {
   "cell_type": "markdown",
   "metadata": {},
   "source": [
    "<div style=\"width: 640px;\">\n",
    "<p ><img src=\"http://oeis.org/w/images/c/c4/BinaryQF111LevelSet13.png\" alt=\"\" /></p>\n",
    "</div>"
   ]
  },
  {
   "cell_type": "markdown",
   "metadata": {},
   "source": [
    "<div style=\"width: 600px; text-align: justify;\">\n",
    "\n",
    "The graphic shows the level set of the binary quadratic form $ x^2 + xy + y^2$\n",
    "and the lattice points of the level set 13. The integral values \n",
    "(x, y) = (3, 1), (1, 3), (-1, 4), (-3, 4), (-4, 3), (-4, 1), (-3, -1), (-1, -3), \n",
    "(1, -4), (3, -4), (4, -3) and (4, -1) are points of the ellipse. Therefore 13 is represented by the form.\n",
    "\n",
    "</div>"
   ]
  },
  {
   "cell_type": "markdown",
   "metadata": {},
   "source": [
    "<div style=\"width: 620px;\">\n",
    "<p><img src=\"http://oeis.org/w/images/b/b3/BinaryQF111LevelSet14.png\" alt=\"\" /></p>\n",
    "</div>"
   ]
  },
  {
   "cell_type": "markdown",
   "metadata": {},
   "source": [
    "<div style=\"width: 600px; text-align: justify;\">\n",
    "\n",
    "14 is not represented by the binary quadratic form $x^2 + xy + y^2$, \n",
    "no lattice points of the level set lie on the ellipse.\n",
    "\n",
    "</div>"
   ]
  },
  {
   "cell_type": "markdown",
   "metadata": {},
   "source": [
    "<h3 style=\"color: maroon;\">Some examples at a glance</h3>"
   ]
  },
  {
   "cell_type": "markdown",
   "metadata": {},
   "source": [
    "<div style=\"width: 600px; text-align: justify;\">\n",
    "\n",
    "The table below collocates a few sequences in the OEIS which list numbers represented by binary quadratic forms. If an entry in the table below shows multiple sequences this means that the sequences differ only by some initial terms or the equivalence of their definitions is not proved. "
   ]
  },
  {
   "cell_type": "markdown",
   "metadata": {},
   "source": [
    "<div style=\"width: 600px; text-align: justify;\">\n",
    "\n",
    "<center>\n",
    "<table  cellpadding=\"4\" cellspacing=\"6\" border=\"1px solid #808000;\"  style=\"text-align: center\">\n",
    "<tr style=\"font-size: small; color: blue; background-color:#FFD700; \n",
    "text-align:center\">\n",
    "<td>(a, b, c)</td>\n",
    "<td>b^2 - 4ac</td>\n",
    "<td>prime</td>\n",
    "<td>primitively</td>\n",
    "<td>positive</td>\n",
    "</tr>\n",
    "<tr>\n",
    "<td style=\"font-size: small; color: blue; background-color:#FFD700; text-align: center\">(1, 0, -3)</td>\n",
    "<td style=\"font-size: small; color: blue; background-color:#FFD700; text-align: center\">12</td>\n",
    "<td ><a href=\"http://oeis.org/A068228\">A068228</a>, <a href=\"http://oeis.org/A141122\">A141122</a></td>\n",
    "<td><a href=\"http://oeis.org/A243655\">A243655</a></td>\n",
    "<td><a href=\"http://oeis.org/A084916\">A084916</a></td>\n",
    "</tr>\n",
    "<tr>\n",
    "<td style=\"font-size: small; color: blue; background-color:#FFD700; text-align: center\">(1, 1, -2)</td>\n",
    "<td style=\"font-size: small; color: blue; background-color:#FFD700; text-align: center\">9</td>\n",
    "<td ><a href=\"http://oeis.org/A002476\">A002476</a>, <a href=\"http://oeis.org/A007645\">A007645</a></td>\n",
    "<td><a href=\"http://oeis.org/A244713\">A244713</a></td>\n",
    "<td><a href=\"http://oeis.org/A056991\">A056991</a>, <a href=\"http://oeis.org/A242660\">A242660</a></td>\n",
    "</tr>\n",
    "<tr>\n",
    "<td style=\"font-size: small; color: blue; background-color:#FFD700; text-align: center\">(1, 0, -2)</td>\n",
    "<td style=\"font-size: small; color: blue; background-color:#FFD700; text-align: center\">8</td>\n",
    "<td><a href=\"http://oeis.org/A001132\">A001132</a>, <a href=\"http://oeis.org/A038873\">A038873</a></td>\n",
    "<td><a href=\"http://oeis.org/A057126\">A057126</a></td>\n",
    "<td><a href=\"http://oeis.org/A035251\">A035251</a></td>\n",
    "</tr>\n",
    "<tr>\n",
    "<td style=\"font-size: small; color: blue; background-color:#FFD700; text-align: center\">(1, 1, -1)</td>\n",
    "<td style=\"font-size: small; color: blue; background-color:#FFD700; text-align: center\">5</td>\n",
    "<td><a href=\"http://oeis.org/A038872\">A038872</a>, <a href=\"http://oeis.org/A141158\">A141158</a></td>\n",
    "<td><a href=\"http://oeis.org/A089270\">A089270</a></td>\n",
    "<td><a href=\"http://oeis.org/A031363\">A031363</a></td>\n",
    "</tr>\n",
    "<tr>\n",
    "<td style=\"font-size: small; color: blue; background-color:#FFD700; text-align: center\">(1, 0, -1)</td>\n",
    "<td style=\"font-size: small; color: blue; background-color:#FFD700; text-align: center\">4</td>\n",
    "<td ><a href=\"http://oeis.org/A065091\">A065091</a></td>\n",
    "<td><a href=\"http://oeis.org/A047486\">A047486</a></td>\n",
    "<td><a href=\"http://oeis.org/A042965\">A042965</a></td>\n",
    "</tr>\n",
    "<tr>\n",
    "<td style=\"font-size: small; color: blue; background-color:#FFD700; text-align: center\">(1, 1, 1)</td>\n",
    "<td style=\"font-size: small; color: blue; background-color:#FFD700; text-align: center\">-3</td>\n",
    "<td><a href=\"http://oeis.org/A002476\">A002476</a>, <a href=\"http://oeis.org/A007645\">A007645</a></td>\n",
    "<td><span><a href=\"http://oeis.org/A034017\">A034017</a></span></td>\n",
    "<td><a href=\"http://oeis.org/A003136\">A003136</a>, <a href=\"http://oeis.org/A035238\">A035238</a>,<br />\n",
    "<a href=\"http://oeis.org/A045375\">A045375</a>, <a href=\"http://oeis.org/A123365\">A123365</a>,<br />\n",
    "<a href=\"http://oeis.org/A144919\">A144919</a>, <a href=\"http://oeis.org/A144921\">A144921</a></td>\n",
    "</tr>\n",
    "<tr>\n",
    "<td style=\"font-size: small; color: blue; background-color:#FFD700; text-align: center\">(1, 0 ,1)</td>\n",
    "<td style=\"font-size: small; color: blue; background-color:#FFD700; text-align: center\">-4</td>\n",
    "<td ><a href=\"http://oeis.org/A002144\">A002144</a>, <a href=\"http://oeis.org/A002313\">A002313</a></td>\n",
    "<td><a href=\"http://oeis.org/A008784\">A008784</a></td>\n",
    "<td><a href=\"http://oeis.org/A001481\">A001481</a></td>\n",
    "</tr>\n",
    "<tr>\n",
    "<td style=\"font-size: small; color: blue; background-color:#FFD700; text-align: center\">(1, 1, 2)</td>\n",
    "<td style=\"font-size: small; color: blue; background-color:#FFD700; text-align: center\">-7</td>\n",
    "<td ><a href=\"http://oeis.org/A033207\">A033207</a>, <a href=\"http://oeis.org/A045373\">A045373</a></td>\n",
    "<td><a href=\"http://oeis.org/A244779\">A244779</a></td>\n",
    "<td><a href=\"http://oeis.org/A028951\">A028951</a>, <a href=\"http://oeis.org/A035248\">A035248</a> </td>\n",
    "</tr>\n",
    "<tr>\n",
    "<td style=\"font-size: small; color: blue; background-color:#FFD700; text-align: center\">(1, 0 , 2)</td>\n",
    "<td style=\"font-size: small; color: blue; background-color:#FFD700; text-align: center\">-8</td>\n",
    "<td ><a href=\"http://oeis.org/A033200\">A033200</a>, <a href=\"http://oeis.org/A033203\">A033203</a></td>\n",
    "<td><a href=\"http://oeis.org/A057127\">A057127</a></td>\n",
    "<td><a href=\"http://oeis.org/A002479\">A002479</a> </td>\n",
    "</tr>\n",
    "<tr>\n",
    "<td style=\"font-size: small; color: blue; background-color:#FFD700; text-align:center\">(1, 1, 3)</td>\n",
    "<td style=\"font-size: small; color: blue; background-color:#FFD700; text-align:center\">-11</td>\n",
    "<td ><a href=\"http://oeis.org/A056874\">A056874</a></td>\n",
    "<td><a href=\"http://oeis.org/A244780\">A244780</a></td>\n",
    "<td><a href=\"http://oeis.org/A028954\">A028954</a>, <a href=\"http://oeis.org/A035247\">A035247</a> </td>\n",
    "</tr>\n",
    "<tr>\n",
    "<td style=\"font-size: small; color: blue; background-color:#FFD700; text-align: center\">(1, 0, 3)</td>\n",
    "<td style=\"font-size: small; color: blue; background-color:#FFD700; text-align: center\">-12</td>\n",
    "<td><a href=\"https://oeis.org/A002476\">A002476</a>, <a href=\"https://oeis.org/A007645\">A007645</a></td>\n",
    "<td><a href=\"https://oeis.org/A244819\">A244819</a></td>\n",
    "<td><a href=\"https://oeis.org/A003136\">A003136</a> </td>\n",
    "</tr></table></center>"
   ]
  },
  {
   "cell_type": "markdown",
   "metadata": {},
   "source": [
    "<div style=\"width: 600px; text-align: justify;\">\n",
    "\n",
    "The oldest sequences in the table (defined here by the lowest A-number) are (apart from the natural numbers and the prime numbers) A001132 (primes &equiv; &plusmn; 1 mod 8) and A001481 (numbers that are the sum of 2 squares), which nicely sets the arithmetic theme. \n",
    "\n",
    "Note that only numbers n &equiv; 0 (mod 4) or n &equiv; 1 (mod 4) can be a discriminant (..., -8, -7, -4, -3, 0, 1, 4, 5, 8, ...). \n",
    "\n",
    "Also note that reading a row in the table from the left to the right we have the inclusion &quot;represented primes&quot; &#8838; &quot;primitively represented&quot; &#8838; &quot;represented positives&quot;. For example in the case of discriminant 4 the inclusion is A065091 &#8838; A047486 &#8838; A042965 where &#39;&#8838;&#39; is to be read as &#39;is subsequence of&#39;.\n",
    "\n",
    "Prime numbers which are represented by a binary quadratic form are primitively represented by this form. N. J. A. Sloane gave the following proof on the seqfan list:\n",
    "\n",
    "For if $ax^2 + bxy + cy^2 = p$ and gcd $(x, y) = d \\gt 1$, then $d$ divides $p$, so $d = p$. Then let $x = pX$, $y = pY$, so $ap^2X^2 + bp^2XY + cp^2Y^2 = p$, so $p^2$ divides $p$, a contradiction."
   ]
  },
  {
   "cell_type": "markdown",
   "metadata": {},
   "source": [
    "<div style=\"width: 600px; text-align: justify;\">\n",
    "<hr style=\"width:610px; background-color:maroon; height:8px; margin-right:0; \" />\n",
    "<h2 style=\"color: maroon;\">The Python-Sage class 'binaryQF(a,b,c)'.</h2>"
   ]
  },
  {
   "cell_type": "markdown",
   "metadata": {},
   "source": [
    "<h3 style=\"color: maroon;\">Algorithms</h3>"
   ]
  },
  {
   "cell_type": "markdown",
   "metadata": {},
   "source": [
    "<div style=\"width: 600px; text-align: justify;\">\n",
    "\n",
    "We consider 9 cases in dependence of the determinant $D = b^2 - 4ac$ and \n",
    "required restrictions on the generated integers: _prime_, or \n",
    "_primitively represented_, or _all_ positive values. \n",
    "The table below shows the algorithms used.\n",
    "\n",
    "<ul>\n",
    "<li>sfb: Extension of Neil Sloane's 'fb' function.</li>\n",
    "<li>qfb: Pari's qfbsolve function.</li>\n",
    "<li>qfs: A search function based on a hint by Robert Israel.</li>\n",
    "<li>qfr: Pari's qfrep function.</li>\n",
    "<li>jcp: Port of Will Jagy's C++ programs <em>Conway-PositivePrimitive</em> and  <em>Conway-PositiveAll</em>.</li>\n",
    "</ul>"
   ]
  },
  {
   "cell_type": "markdown",
   "metadata": {},
   "source": [
    "<div style=\"width: 600px; text-align: justify;\">\n",
    "\n",
    "<center>\n",
    "<table style=\"text-align: center; border-style: solid; border-width: 2px;\" cellspacing=\"4\" cellpadding=\"4\"><caption style=\"font-size:larger\">Algorithms used in the class binaryQF</caption>\n",
    "<tbody>\n",
    "<tr style=\"text-align: left; color: blue; background-color: #ffcc66;\">\n",
    "<td>D = b^2 - 4ac, D != 0</td>\n",
    "<td>prime</td>\n",
    "<td>primitively</td>\n",
    "<td>positive</td>\n",
    "</tr>\n",
    "<tr>\n",
    "<td style=\"text-align: left; color: blue; background-color: #ffcc66;\">D = k^2, k != 0 (square)</td>\n",
    "<td>sfb&nbsp;</td>\n",
    "<td>sfb&nbsp;</td>\n",
    "<td>sfb&nbsp;</td>\n",
    "</tr>\n",
    "<tr>\n",
    "<td style=\"text-align: left; color: blue; background-color: #ffcc66;\">D &lt; 0 (definite, imaginary)</td>\n",
    "<td>qfb&nbsp;</td>\n",
    "<td>qfs&nbsp;</td>\n",
    "<td>qfr&nbsp;</td>\n",
    "</tr>\n",
    "<tr>\n",
    "<td style=\"text-align: left; color: blue; background-color: #ffcc66;\">D &gt; 0 (indefinite, real)</td>\n",
    "<td>jcp&nbsp;</td>\n",
    "<td>jcp&nbsp;</td>\n",
    "<td>jcp&nbsp;</td>\n",
    "</tr>\n",
    "</tbody></table></center>"
   ]
  },
  {
   "cell_type": "markdown",
   "metadata": {},
   "source": [
    "<div style=\"width: 600px; text-align: justify;\">\n",
    "<h3 style=\"color: maroon;\">The constructor</h3>\n",
    "\n",
    "<pre style=\"color: maroon\">    binaryQF([a, b, c])\n",
    "</pre>\n",
    "    \n",
    "This is the constructor of the class 'binaryQF'. \n",
    "$ a, b, c$ are the integer coefficients of the quadratic form\n",
    "$ q(x, y) = ax^2 + bxy + cy^2 $. "
   ]
  },
  {
   "cell_type": "markdown",
   "metadata": {},
   "source": [
    "<div style=\"width: 600px; text-align: justify;\">\n",
    "<h3 style=\"color: maroon;\">The main function</h3>\n",
    "\n",
    "Return all numbers represented by the quadratic form subject to\n",
    "the constraint _subset_, which is _all_, _primitively_ or _prime_\n",
    "up to the bound _upto_. \n",
    "\n",
    "<pre style=\"color: maroon\">represented_positives( \n",
    "    upto,    [search the range (1..upto)]\n",
    "    subset,  ['all' or 'primitively' or 'prime', default 'all']\n",
    "    verbose  [print messages, default True]\n",
    ")</pre>\n",
    "    \n",
    "The function is a member of the class 'binaryQF'. \n",
    "All other functions in this class are internal functions of the \n",
    "class and need not be addressed by a user."
   ]
  },
  {
   "cell_type": "markdown",
   "metadata": {},
   "source": [
    "<h3 style=\"color: maroon;\">Batteries included</h3>\n",
    "<div style=\"width: 600px; text-align: justify;\">\n",
    "\n",
    "We add a OEIS-query function:\n",
    "\n",
    "<p style=\"color: maroon;\">&nbsp;&nbsp;&nbsp;oeis_bqf(q, filter, upto, terse)</p>\n",
    "\n",
    "The function tries to find sequences in the OEIS whose terms are represented\n",
    "by the binary quadratic form with coefficients $q = [a, b, c]$ and which are\n",
    "restricted according to the _filter_, which is one of _all_, _primitively_,\n",
    "_prime_ or _tutti_. The parameter _upto_ gives the upper bound of the search range,\n",
    "which is 100 by default. If _terse_ is _True_ the output will be a compact\n",
    "one-liner; otherwise the output is more verbose. With the parameter _values_ you\n",
    "can switch off the display of the values; it is set to _True_ by default. \n",
    "To use the function you have to be connected to the Internet."
   ]
  },
  {
   "cell_type": "markdown",
   "metadata": {},
   "source": [
    "<h3 style=\"color: maroon;\">Example</h3>\n",
    "<div style=\"width: 600px; text-align: justify;\">\n",
    "A typical use case is: \n",
    "\n",
    "<pre> \n",
    "    Q = binaryQF([5, 4, 2])\n",
    "    Q.represented_positives(100, 'prime')\n",
    "</pre>\n",
    "\n",
    "This will output:\n",
    "\n",
    "<pre>    Original form  [5, 4, 2] with discriminant -24\n",
    "    Reduced form   [2, 0, 3]\n",
    "    There are 8 primes represented up to 100\n",
    "    [2, 3, 5, 11, 29, 53, 59, 83]\n",
    "</pre>\n",
    "\n",
    "One can feed this output into Sage's oeis function \n",
    "\n",
    "<pre>    oeis([2, 3, 5, 11, 29, 53, 59, 83])\n",
    "</pre>\n",
    "\n",
    "which returns:\n",
    "\n",
    "<pre>\n",
    "    0: A084865: Primes of the form 2x^2 + 3y^2.\n",
    "</pre>\n",
    "\n",
    "Alternatively you can call directly\n",
    "\n",
    "<pre>    oeis_bqf([5, 4, 2], 'prime')\n",
    "</pre>\n",
    "\n",
    "which prints:\n",
    "\n",
    "<pre>[-24] [5, 4, 2] prime ['A084865']\n",
    "[2, 3, 5, 11, 29, 53, 59, 83, 101, 107, 131, 149]\n",
    "</pre> \n",
    "\n",
    "\n",
    "This shows the _discriminant_ of the form, the _coefficient list_, \n",
    "the type of the constraint, and OEIS _sequence numbers_ in the first line.\n",
    "The second line displays the first few _values_ of integers\n",
    "represented by the form. Setting the parameter _terse = True_ will\n",
    "output only the first line."
   ]
  },
  {
   "cell_type": "markdown",
   "metadata": {},
   "source": [
    "<div style=\"width: 600px; text-align: justify;\">\n",
    "<hr style=\"width:610px; background-color:maroon; height:8px; margin-right:0; \" />\n",
    "<h2 style=\"color: maroon;\">Implementation</h2>"
   ]
  },
  {
   "cell_type": "code",
   "execution_count": 1,
   "metadata": {},
   "outputs": [],
   "source": [
    "from typing import Any as Any, Generator, NoReturn as NoReturn\n",
    "from sage.calculus.var import var\n",
    "from sage.rings.integer import Integer\n",
    "from sage.rings.integer_ring import ZZ\n",
    "from sage.arith.misc import is_square, is_prime, next_prime, gcd\n",
    "from sage.misc.functional import isqrt, sqrt\n",
    "from sage.functions.other import floor, ceil\n",
    "from sage.matrix.constructor import Matrix"
   ]
  },
  {
   "cell_type": "code",
   "execution_count": 2,
   "metadata": {},
   "outputs": [],
   "source": [
    "class binaryQF():\n",
    "    \"\"\"\n",
    "    A binary quadratic form over Z.\n",
    "    Input: a list of 3 entries: [a, b, c]\n",
    "    \"\"\"\n",
    "\n",
    "    def __init__(self, \n",
    "        abc: list[int]\n",
    "    ) -> None:\n",
    "\n",
    "        self._a: Integer = ZZ(abc[0])\n",
    "        self._b: Integer = ZZ(abc[1])\n",
    "        self._c: Integer = ZZ(abc[2])\n",
    "\n",
    "\n",
    "    def discriminant(self\n",
    "    ) -> Integer:\n",
    "\n",
    "        return self._b ** 2 - 4 * self._a * self._c\n",
    "\n",
    "\n",
    "    def sqr_disc(self, \n",
    "        M: int, \n",
    "        primitively: bool = False\n",
    "    ) -> list[Integer]:\n",
    "\n",
    "        d = self.discriminant()\n",
    "        if d == 0:\n",
    "            raise ValueError(\"Discriminant must not be zero\")\n",
    "\n",
    "        a, b, c = self._a, self._b, self._c\n",
    "        if a == 0 and c == 0: # and b != 0\n",
    "            return [b * n for n in range(1, 1 + M // abs(b))]\n",
    "\n",
    "        D = Integer(d).sqrtrem()[0]\n",
    "\n",
    "        # a must be != 0\n",
    "        if a == 0: # then c <> 0; swap\n",
    "            a = c\n",
    "            c = 0\n",
    "\n",
    "        k = 2 * D; m = 4 * a * D\n",
    "        u = b + D; v = b - D\n",
    "        S = set[Integer]()\n",
    "\n",
    "        # Solvability in Z.\n",
    "        for n in range(1, M + 1):\n",
    "            h = 4 * a * n  # a <> 0 and n <> 0\n",
    "            for t in h.divisors():\n",
    "                g = h // t\n",
    "                if k.divides(g - t) and m.divides(g * u - t * v):\n",
    "\n",
    "                    if primitively:\n",
    "                        y = (g - t) // k\n",
    "                        x = var('x')\n",
    "                        eq = a * x * x + b * x * y + c * y * y\n",
    "                        R = (eq - n).roots(multiplicities = False, ring = ZZ)\n",
    "                        x = R[0]\n",
    "\n",
    "                        if gcd(x, y) == 1:\n",
    "                            S.add(n)\n",
    "                            break\n",
    "                    else:\n",
    "                        S.add(n)\n",
    "                        break\n",
    "\n",
    "        return sorted(list(S))\n",
    "\n",
    "\n",
    "    def imag_prime(self, \n",
    "        M: int\n",
    "    ) -> list[Integer]:\n",
    "\n",
    "        solve = pari('qfbsolve')\n",
    "        Q = pari('Qfb')(self._a, self._b, self._c)\n",
    "        p = 1\n",
    "        r = []\n",
    "\n",
    "        while True:\n",
    "            p = next_prime(p)\n",
    "            if p > M: break\n",
    "            if solve(Q, p):\n",
    "                r.append(p)\n",
    "        return r\n",
    "\n",
    "\n",
    "    def imag_primitively(self, \n",
    "        M: int\n",
    "    ) -> list[Integer]:\n",
    "\n",
    "        a, b, c = self._a, self._b, self._c\n",
    "        d = c - (b * b) / (4 * a) \n",
    "        A : list[Integer] = []\n",
    "\n",
    "        for y in range(1 + isqrt(M / d)):\n",
    "            r = (y * b) / (2 * a)\n",
    "            s = sqrt((M - d * y * y) / a)\n",
    "            for x in range(ceil(-s -r), 1 + floor(s - r)):\n",
    "                if gcd(x, y) == 1:\n",
    "                    A.append(a * x^2 + b * x * y + c * y^2) \n",
    "\n",
    "        return sorted(list(set(A)))\n",
    "\n",
    "\n",
    "    def imag_all(self, \n",
    "        M: int\n",
    "    ) -> list[Integer]:\n",
    "\n",
    "        L = [2 * ZZ(self._a), ZZ(self._b), ZZ(self._b), 2*ZZ(self._c)]\n",
    "        G = Matrix(ZZ, 2, 2, L)\n",
    "        A = pari('qfrep')(G, M, 1)\n",
    "        return [k + 1 for k in range(M) if A[k] > 0]\n",
    "\n",
    "\n",
    "    def _primitive_reps(self, \n",
    "        a: Integer, \n",
    "        h: Integer, \n",
    "        b: Integer, \n",
    "        M: int, \n",
    "        S: set[Integer]\n",
    "    ) -> None:\n",
    "\n",
    "        if a <= M :\n",
    "            S.add(a)\n",
    "            if b <= M :\n",
    "                S.add(b)\n",
    "                if a <= (M - b) and h <= (M - a - b) :\n",
    "                    if a <= (M - a - h) :\n",
    "                        self._primitive_reps(a, h + 2 * a, a + b + h, M, S)\n",
    "                    if b <= (M - b - h) :\n",
    "                        self._primitive_reps(a + b + h, h + 2 * b, b, M, S)\n",
    "\n",
    "\n",
    "    def positive_primitives(self, \n",
    "        M: int, \n",
    "        primitively: bool\n",
    "    ) -> set[Integer]:\n",
    "\n",
    "        a, b, c = self._a, self._b, self._c\n",
    "\n",
    "        S = set[Integer]()\n",
    "        while True:\n",
    "            new_val = a + b + c\n",
    "            if new_val > 0 :\n",
    "                self._primitive_reps(a, b + 2 * a, new_val, M, S)\n",
    "                b += 2 * c\n",
    "                a = new_val\n",
    "            elif new_val < 0 :\n",
    "                b += 2 * a\n",
    "                c = new_val\n",
    "            if a == self._a and b == self._b and c == self._c:\n",
    "                break\n",
    "\n",
    "        if not primitively :\n",
    "            X = set[Integer]()\n",
    "            for p in S:\n",
    "                q = t = 1\n",
    "                while q <= M :\n",
    "                    X.add(q)\n",
    "                    q = t * t * p\n",
    "                    t += 1\n",
    "            S = X\n",
    "\n",
    "        return S\n",
    "\n",
    "\n",
    "    def reduce_real(self\n",
    "    ) -> list[Integer]:\n",
    "\n",
    "        d = self.discriminant()\n",
    "        if is_square(d):\n",
    "            raise ValueError(\"Form must not have square discriminant\")\n",
    "\n",
    "        droot = Integer(d).sqrtrem()[0]\n",
    "        a, b, c = self._a, self._b, self._c\n",
    "\n",
    "        while a <= 0 or c >= 0 or b <= abs(a + c):\n",
    "\n",
    "            cAbs = c\n",
    "            if cAbs < 0: cAbs *= -1\n",
    "\n",
    "            # cAbs = 0 will not happen for a non square form\n",
    "            delta = (b + droot) // (2 * cAbs)\n",
    "            if c < 0: delta *= -1\n",
    "            aa = c\n",
    "            bb = 2 * c * delta - b\n",
    "            cc = c * delta * delta - b * delta + a\n",
    "            a, b, c = aa, bb, cc\n",
    "\n",
    "        return [a, b, c]\n",
    "\n",
    "\n",
    "    def reduce_imag(self\n",
    "    ) -> list[Integer]:\n",
    "\n",
    "        a, b, c = self._a, self._b, self._c\n",
    "        if a < 0: a, b, c = -a, -b, -c\n",
    "        d = self.discriminant()\n",
    "\n",
    "        while True:\n",
    "            A = ( a == c and b < 0) or (c < a)\n",
    "            B = (-a == b and a < c) or (a < abs(b))\n",
    "\n",
    "            if not (A or B) : break\n",
    "\n",
    "            if A: a, b, c = c, -b, a\n",
    "\n",
    "            if B:\n",
    "                b -= 2 * a * (b // (2 * a))\n",
    "                if abs(b) > a: b -= 2 * a\n",
    "                c = (b * b - d) // (4 * a)\n",
    "\n",
    "        return [a, b, c]\n",
    "\n",
    "\n",
    "    def is_reduced(self\n",
    "    ) -> bool:\n",
    "\n",
    "        a, b, c = self._a, self._b, self._c\n",
    "        return (-a < b <= a < c) or (ZZ(0) <= b <= a == c)\n",
    "\n",
    "\n",
    "    def reduced_form(self):\n",
    "        \"\"\"\n",
    "        Returns the unique reduced form equivalent to binaryQF(a, b, c)\n",
    "        \"\"\"\n",
    "\n",
    "        if self.is_reduced() :\n",
    "            return self\n",
    "\n",
    "        if self.discriminant() >= 0:\n",
    "            r = self.reduce_real()\n",
    "        else:\n",
    "            r = self.reduce_imag()\n",
    "\n",
    "        return binaryQF(r)\n",
    "\n",
    "\n",
    "    def represented_positives(self, \n",
    "        upto: int, \n",
    "        subset: str = \"all\", \n",
    "        verbose: bool = True\n",
    "    ) -> list[Integer]:\n",
    "        \"\"\"\n",
    "        subset = \"all\" or \"primitively\" or \"prime\"\n",
    "        \"\"\"\n",
    "\n",
    "        prime = False or subset == \"prime\"\n",
    "        primitively = False or subset == \"primitively\"\n",
    "\n",
    "        d = self.discriminant()\n",
    "        if d == 0:\n",
    "            raise ValueError(\"discriminant must not be 0\")\n",
    "\n",
    "        a, b, c = self._a, self._b, self._c\n",
    "        if verbose:\n",
    "            print(\"Original form \", [a, b, c], \"with discriminant\", d)\n",
    "\n",
    "        if is_square(d):\n",
    "            if verbose:\n",
    "                print(\"Square discriminant!\")\n",
    "\n",
    "            if prime:  # for efficiency\n",
    "                primitively = False\n",
    "            pp = self.sqr_disc(upto, primitively)\n",
    "            if prime:\n",
    "                pp = list(filter(is_prime, pp))\n",
    "\n",
    "        else:\n",
    "\n",
    "            R = self.reduced_form()\n",
    "            if verbose:\n",
    "                print(\"Reduced form  \", [R._a, R._b, R._c])\n",
    "\n",
    "            if d < 0:\n",
    "\n",
    "                if prime:\n",
    "                    pp = R.imag_prime(upto)\n",
    "                else:\n",
    "                    if primitively:\n",
    "                        pp = R.imag_primitively(upto)\n",
    "                    else:\n",
    "                        pp = R.imag_all(upto)\n",
    "\n",
    "            # real case, indefinite form\n",
    "            else: # d > 0 and not square\n",
    "\n",
    "                if prime:  # for efficiency\n",
    "                    primitively = True\n",
    "                pp = R.positive_primitives(upto, primitively)\n",
    "                if prime:\n",
    "                    pp = list(filter(is_prime, pp))\n",
    "                pp = sorted(pp)\n",
    "\n",
    "        if verbose:\n",
    "            msg0 = \"primes\" if prime else \"positive integers\"\n",
    "            msg1 = \"primitively\" if primitively else \"\"\n",
    "            msg2 = \"represented up to\"\n",
    "            print(\"There are\", len(pp), msg0, msg1, msg2, upto)\n",
    "\n",
    "        return pp"
   ]
  },
  {
   "cell_type": "markdown",
   "metadata": {},
   "source": [
    "<div style=\"width: 600px; text-align: justify;\">\n",
    "<hr style=\"width:610px; background-color:maroon; height:8px; margin-right:0; \" />\n",
    "<h2 style=\"color: maroon;\">Computations</h2>"
   ]
  },
  {
   "cell_type": "markdown",
   "metadata": {},
   "source": [
    "<pre style=\"color: maroon;\"><a href=\"https://oeis.org/A243655\">A243655</a>\n",
    "\n",
    "Original form [1, 0, -3] with discriminant 12.\n",
    "Reduced form  [1, 2, -2]\n",
    "There are 13 positive integers primitively represented up to 100.\n",
    "[1, 6, 13, 22, 33, 37, 46, 61, 69, 73, 78, 94, 97]</pre>"
   ]
  },
  {
   "cell_type": "code",
   "execution_count": 3,
   "metadata": {},
   "outputs": [
    {
     "name": "stdout",
     "output_type": "stream",
     "text": [
      "Original form  [1, 0, -3] with discriminant 12\n",
      "Reduced form   [1, 2, -2]\n",
      "There are 13 positive integers primitively represented up to 100\n"
     ]
    },
    {
     "data": {
      "text/plain": [
       "[1, 6, 13, 22, 33, 37, 46, 61, 69, 73, 78, 94, 97]"
      ]
     },
     "execution_count": 3,
     "metadata": {},
     "output_type": "execute_result"
    }
   ],
   "source": [
    "Q = binaryQF([1, 0, -3])\n",
    "Q.represented_positives(100, 'primitively')"
   ]
  },
  {
   "cell_type": "markdown",
   "metadata": {},
   "source": [
    "<pre style=\"color: maroon;\"><a href=\"https://oeis.org/A243655\">A244291</a>\n",
    "\n",
    "Original form  [1, 6, -3] with discriminant 48\n",
    "Reduced form   [1, 6, -3]\n",
    "There are 12 positive integers primitively represented up to 100\n",
    "[1, 4, 13, 24, 33, 37, 52, 61, 69, 73, 88, 97]\n",
    "</pre>"
   ]
  },
  {
   "cell_type": "code",
   "execution_count": 4,
   "metadata": {},
   "outputs": [
    {
     "name": "stdout",
     "output_type": "stream",
     "text": [
      "Original form  [1, 6, -3] with discriminant 48\n",
      "Reduced form   [1, 6, -3]\n",
      "There are 12 positive integers primitively represented up to 100\n"
     ]
    },
    {
     "data": {
      "text/plain": [
       "[1, 4, 13, 24, 33, 37, 52, 61, 69, 73, 88, 97]"
      ]
     },
     "execution_count": 4,
     "metadata": {},
     "output_type": "execute_result"
    }
   ],
   "source": [
    "Q = binaryQF([1, 6, -3])\n",
    "Q.represented_positives(100, 'primitively')"
   ]
  },
  {
   "cell_type": "markdown",
   "metadata": {},
   "source": [
    "<pre style=\"color: maroon;\"><a href=\"https://oeis.org/A084916\">A084916</a>\n",
    "\n",
    "Original form [1, 0, -3] with discriminant 12\n",
    "Reduced form  [1, 2, -2]\n",
    "There are 14 positive integers represented up to 50\n",
    "[1, 4, 6, 9, 13, 16, 22, 24, 25, 33, 36, 37, 46, 49]\n",
    "</pre>"
   ]
  },
  {
   "cell_type": "code",
   "execution_count": 5,
   "metadata": {},
   "outputs": [
    {
     "name": "stdout",
     "output_type": "stream",
     "text": [
      "Original form  [1, 0, -3] with discriminant 12\n",
      "Reduced form   [1, 2, -2]\n",
      "There are 14 positive integers  represented up to 50\n"
     ]
    },
    {
     "data": {
      "text/plain": [
       "[1, 4, 6, 9, 13, 16, 22, 24, 25, 33, 36, 37, 46, 49]"
      ]
     },
     "execution_count": 5,
     "metadata": {},
     "output_type": "execute_result"
    }
   ],
   "source": [
    "Q = binaryQF([1, 0, -3])\n",
    "Q.represented_positives(50)"
   ]
  },
  {
   "cell_type": "markdown",
   "metadata": {},
   "source": [
    "<pre style=\"color: maroon;\"><a href=\"https://oeis.org/A141175\">A141175</a>\n",
    "\n",
    "Original form [-1, 4, 4] with discriminant 32.\n",
    "Reduced form  [4, 4, -1]\n",
    "There are 6 primes represented up to 100.\n",
    "[7, 23, 31, 47, 71, 79]\n",
    "</pre>"
   ]
  },
  {
   "cell_type": "code",
   "execution_count": 6,
   "metadata": {},
   "outputs": [
    {
     "name": "stdout",
     "output_type": "stream",
     "text": [
      "Original form  [-1, 4, 4] with discriminant 32\n",
      "Reduced form   [4, 4, -1]\n",
      "There are 6 primes primitively represented up to 100\n"
     ]
    },
    {
     "data": {
      "text/plain": [
       "[7, 23, 31, 47, 71, 79]"
      ]
     },
     "execution_count": 6,
     "metadata": {},
     "output_type": "execute_result"
    }
   ],
   "source": [
    "Q = binaryQF([-1, 4, 4]) \n",
    "Q.represented_positives(100, 'prime')"
   ]
  },
  {
   "cell_type": "code",
   "execution_count": 7,
   "metadata": {},
   "outputs": [
    {
     "name": "stdout",
     "output_type": "stream",
     "text": [
      "Original form  [7, 12, 4] with discriminant 32\n",
      "Reduced form   [4, 4, -1]\n",
      "There are 6 primes primitively represented up to 100\n"
     ]
    },
    {
     "data": {
      "text/plain": [
       "[7, 23, 31, 47, 71, 79]"
      ]
     },
     "execution_count": 7,
     "metadata": {},
     "output_type": "execute_result"
    }
   ],
   "source": [
    "Q = binaryQF([7, 12, 4]) \n",
    "Q.represented_positives(100, 'prime')"
   ]
  },
  {
   "cell_type": "markdown",
   "metadata": {},
   "source": [
    "<pre style=\"color: maroon;\"><a href=\"https://oeis.org/A035269\">A035269</a>\n",
    "\n",
    "Original form [2, 3, -4] with discriminant 41.\n",
    "Reduced form  [2, 3, -4]\n",
    "There are 14 positive integers represented up to 33.\n",
    "[1, 2, 4, 5, 8, 9, 10, 16, 18, 20, 23, 25, 31, 32]\n",
    "</pre>"
   ]
  },
  {
   "cell_type": "code",
   "execution_count": 8,
   "metadata": {},
   "outputs": [
    {
     "name": "stdout",
     "output_type": "stream",
     "text": [
      "Original form  [2, 3, -4] with discriminant 41\n",
      "Reduced form   [2, 3, -4]\n",
      "There are 14 positive integers  represented up to 33\n"
     ]
    },
    {
     "data": {
      "text/plain": [
       "[1, 2, 4, 5, 8, 9, 10, 16, 18, 20, 23, 25, 31, 32]"
      ]
     },
     "execution_count": 8,
     "metadata": {},
     "output_type": "execute_result"
    }
   ],
   "source": [
    "Q = binaryQF([2, 3, -4]) \n",
    "Q.represented_positives(33)"
   ]
  },
  {
   "cell_type": "markdown",
   "metadata": {},
   "source": [
    "<pre style=\"color: maroon;\"><a href=\"https://oeis.org/A056991\">A056991</a>&nbsp;<a href=\"https://oeis.org/A242660\">A242660</a>\n",
    "\n",
    "Original form [1, 1, -2] with discriminant 9.\n",
    "Square discriminant!\n",
    "There are 13 positive integers represented up to 30\n",
    "[1, 4, 7, 9, 10, 13, 16, 18, 19, 22, 25, 27, 28]\n",
    "</pre>"
   ]
  },
  {
   "cell_type": "code",
   "execution_count": 9,
   "metadata": {},
   "outputs": [
    {
     "name": "stdout",
     "output_type": "stream",
     "text": [
      "Original form  [1, 1, -2] with discriminant 9\n",
      "Square discriminant!\n",
      "There are 13 positive integers  represented up to 30\n"
     ]
    },
    {
     "data": {
      "text/plain": [
       "[1, 4, 7, 9, 10, 13, 16, 18, 19, 22, 25, 27, 28]"
      ]
     },
     "execution_count": 9,
     "metadata": {},
     "output_type": "execute_result"
    }
   ],
   "source": [
    "Q = binaryQF([1, 1, -2])\n",
    "Q.represented_positives(30)"
   ]
  },
  {
   "cell_type": "markdown",
   "metadata": {},
   "source": [
    "<pre style=\"color: maroon;\"><a href=\"https://oeis.org/A002476\">A002476</a>\n",
    "\n",
    "Original form [1, 1, -2] with discriminant 9.\n",
    "Square discriminant!\n",
    "There are 11 primes represented up to 100.\n",
    "[7, 13, 19, 31, 37, 43, 61, 67, 73, 79, 97]\n",
    "</pre>"
   ]
  },
  {
   "cell_type": "code",
   "execution_count": 10,
   "metadata": {},
   "outputs": [
    {
     "name": "stdout",
     "output_type": "stream",
     "text": [
      "Original form  [1, 1, -2] with discriminant 9\n",
      "Square discriminant!\n",
      "There are 11 primes  represented up to 100\n"
     ]
    },
    {
     "data": {
      "text/plain": [
       "[7, 13, 19, 31, 37, 43, 61, 67, 73, 79, 97]"
      ]
     },
     "execution_count": 10,
     "metadata": {},
     "output_type": "execute_result"
    }
   ],
   "source": [
    "Q = binaryQF([1, 1, -2]) \n",
    "Q.represented_positives(100, 'prime')"
   ]
  },
  {
   "cell_type": "markdown",
   "metadata": {},
   "source": [
    "<pre style=\"color: maroon;\"><a href=\"https://oeis.org/A107132\">A107132</a>\n",
    "\n",
    "Original form [2, 0, 13] with discriminant -104.\n",
    "Reduced form  [2, 0, 13]\n",
    "There are 10 primes represented up to 500.\n",
    "[2, 13, 31, 149, 167, 317, 359, 397, 463, 487]\n",
    "</pre>"
   ]
  },
  {
   "cell_type": "code",
   "execution_count": 11,
   "metadata": {},
   "outputs": [
    {
     "name": "stdout",
     "output_type": "stream",
     "text": [
      "Original form  [2, 0, 13] with discriminant -104\n",
      "Reduced form   [2, 0, 13]\n",
      "There are 10 primes  represented up to 500\n"
     ]
    },
    {
     "data": {
      "text/plain": [
       "[2, 13, 31, 149, 167, 317, 359, 397, 463, 487]"
      ]
     },
     "execution_count": 11,
     "metadata": {},
     "output_type": "execute_result"
    }
   ],
   "source": [
    "Q = binaryQF([2, 0, 13]) \n",
    "Q.represented_positives(500, 'prime')"
   ]
  },
  {
   "cell_type": "markdown",
   "metadata": {},
   "source": [
    "<pre style=\"color: maroon;\"><a href=\"https://oeis.org/A045373\">A045373</a>\n",
    "\n",
    "Original form [1, 1, 2] with discriminant -7.\n",
    "Reduced form  [1, 1, 2]\n",
    "There are 13 primes represented up to 109.\n",
    "[2, 7, 11, 23, 29, 37, 43, 53, 67, 71, 79, 107, 109]\n",
    "</pre>"
   ]
  },
  {
   "cell_type": "code",
   "execution_count": 12,
   "metadata": {},
   "outputs": [
    {
     "name": "stdout",
     "output_type": "stream",
     "text": [
      "Original form  [1, 1, 2] with discriminant -7\n",
      "Reduced form   [1, 1, 2]\n",
      "There are 13 primes  represented up to 109\n"
     ]
    },
    {
     "data": {
      "text/plain": [
       "[2, 7, 11, 23, 29, 37, 43, 53, 67, 71, 79, 107, 109]"
      ]
     },
     "execution_count": 12,
     "metadata": {},
     "output_type": "execute_result"
    }
   ],
   "source": [
    "Q = binaryQF([1, 1, 2]) \n",
    "Q.represented_positives(109, 'prime')"
   ]
  },
  {
   "cell_type": "markdown",
   "metadata": {},
   "source": [
    "<pre style=\"color: maroon;\"><a href=\"https://oeis.org/A033203\">A033203</a>\n",
    "\n",
    "Original form [1, 0, 2] with discriminant -8 \n",
    "Reduced form  [1, 0, 2]\n",
    "There are 13 primes represented up to 100.\n",
    "[2, 3, 11, 17, 19, 41, 43, 59, 67, 73, 83, 89, 97]\n",
    "</pre>"
   ]
  },
  {
   "cell_type": "code",
   "execution_count": 13,
   "metadata": {},
   "outputs": [
    {
     "name": "stdout",
     "output_type": "stream",
     "text": [
      "Original form  [1, 0, 2] with discriminant -8\n",
      "Reduced form   [1, 0, 2]\n",
      "There are 13 primes  represented up to 100\n"
     ]
    },
    {
     "data": {
      "text/plain": [
       "[2, 3, 11, 17, 19, 41, 43, 59, 67, 73, 83, 89, 97]"
      ]
     },
     "execution_count": 13,
     "metadata": {},
     "output_type": "execute_result"
    }
   ],
   "source": [
    "Q = binaryQF([1, 0, 2]) \n",
    "Q.represented_positives(100, 'prime')"
   ]
  },
  {
   "cell_type": "markdown",
   "metadata": {},
   "source": [
    "<pre style=\"color: maroon;\">\n",
    "\n",
    "Original form [2, -1, 17] with discriminant -135 \n",
    "Reduced form  [2, -1, 17]\n",
    "There are 1609 primes represented up to 100000.\n",
    "[2, 17, 23, 53, 83, 137, ..., 99623, 99707, 99713, 99833]\n",
    "</pre>"
   ]
  },
  {
   "cell_type": "code",
   "execution_count": 14,
   "metadata": {
    "scrolled": false
   },
   "outputs": [],
   "source": [
    "Q = binaryQF([2, -1, 17]) \n",
    "# print(Q.represented_positives(100000, 'prime'))"
   ]
  },
  {
   "cell_type": "markdown",
   "metadata": {},
   "source": [
    "<pre style=\"color: maroon;\"><a href=\"https://oeis.org/A028951\">A028951</a>, <a href=\"https://oeis.org/A035248\">A035248</a>.\n",
    "\n",
    "Original form [1, 1, 2] with discriminant -7\n",
    "There are 15 positive integers represented up to 30\n",
    "[1, 2, 4, 7, 8, 9, 11, 14, 16, 18, 22, 23, 25, 28, 29]\n",
    "<pre>"
   ]
  },
  {
   "cell_type": "code",
   "execution_count": 15,
   "metadata": {},
   "outputs": [
    {
     "name": "stdout",
     "output_type": "stream",
     "text": [
      "Original form  [1, 1, 2] with discriminant -7\n",
      "Reduced form   [1, 1, 2]\n",
      "There are 15 positive integers  represented up to 30\n"
     ]
    },
    {
     "data": {
      "text/plain": [
       "[1, 2, 4, 7, 8, 9, 11, 14, 16, 18, 22, 23, 25, 28, 29]"
      ]
     },
     "execution_count": 15,
     "metadata": {},
     "output_type": "execute_result"
    }
   ],
   "source": [
    "Q = binaryQF([1, 1, 2]) \n",
    "Q.represented_positives(30)"
   ]
  },
  {
   "cell_type": "markdown",
   "metadata": {},
   "source": [
    "<pre style=\"color: maroon;\"><a href=\"https://oeis.org/A003136\">A003136</a>\n",
    "\n",
    "Original form [1, 1, 1] with discriminant -3\n",
    "Reduced form  [1, 1, 1]\n",
    "There are 13 positive integers represented up to 30\n",
    "[1, 3, 4, 7, 9, 12, 13, 16, 19, 21, 25, 27, 28]\n",
    "</pre>"
   ]
  },
  {
   "cell_type": "code",
   "execution_count": 16,
   "metadata": {},
   "outputs": [
    {
     "name": "stdout",
     "output_type": "stream",
     "text": [
      "Original form  [1, 1, 1] with discriminant -3\n",
      "Reduced form   [1, 1, 1]\n",
      "There are 13 positive integers  represented up to 30\n"
     ]
    },
    {
     "data": {
      "text/plain": [
       "[1, 3, 4, 7, 9, 12, 13, 16, 19, 21, 25, 27, 28]"
      ]
     },
     "execution_count": 16,
     "metadata": {},
     "output_type": "execute_result"
    }
   ],
   "source": [
    "Q = binaryQF([1, 1, 1]) \n",
    "Q.represented_positives(30)"
   ]
  },
  {
   "cell_type": "markdown",
   "metadata": {},
   "source": [
    "<pre style=\"color: maroon;\"><a href=\"https://oeis.org/A001481\">A001481</a>\n",
    "\n",
    "Original form [1, 0, 1] with discriminant -4\n",
    "Reduced form  [1, 0, 1]\n",
    "There are 15 positive integers represented up to 30\n",
    "[1, 2, 4, 5, 8, 9, 10, 13, 16, 17, 18, 20, 25, 26, 29]\n",
    "</pre>"
   ]
  },
  {
   "cell_type": "code",
   "execution_count": 17,
   "metadata": {},
   "outputs": [
    {
     "name": "stdout",
     "output_type": "stream",
     "text": [
      "Original form  [1, 0, 1] with discriminant -4\n",
      "Reduced form   [1, 0, 1]\n",
      "There are 15 positive integers  represented up to 30\n"
     ]
    },
    {
     "data": {
      "text/plain": [
       "[1, 2, 4, 5, 8, 9, 10, 13, 16, 17, 18, 20, 25, 26, 29]"
      ]
     },
     "execution_count": 17,
     "metadata": {},
     "output_type": "execute_result"
    }
   ],
   "source": [
    "Q = binaryQF([1, 0, 1]) \n",
    "Q.represented_positives(30)"
   ]
  },
  {
   "cell_type": "markdown",
   "metadata": {},
   "source": [
    "<pre style=\"color: maroon;\"><a href=\"https://oeis.org/A244019\">A244019</a>\n",
    "\n",
    "Original form [9, 6, 1849] with discriminant -66528\n",
    "Reduced form  [9, 6, 1849]\n",
    "There are 44 primes represented up to 18000\n",
    "[1873, 2017, 2137, 2377, 2473, 2689, 3217, 3529, 3697, 4057, 4657, 5569, \n",
    "6073, 6337, 7177, 7393, 7417, 7561, 7681, 7753, 8017, 8089, 8233, 8353,\n",
    "8737, 8761, 9241, 9601, 9769, 11113, 11257, 11617, 12049, 12433, 12457,\n",
    "12721, 13297, 13633, 13729, 14281, 15073, 15313, 16417, 17977]\n",
    "<pre>"
   ]
  },
  {
   "cell_type": "code",
   "execution_count": 18,
   "metadata": {},
   "outputs": [
    {
     "name": "stdout",
     "output_type": "stream",
     "text": [
      "Original form  [9, 6, 1849] with discriminant -66528\n",
      "Reduced form   [9, 6, 1849]\n",
      "There are 44 primes  represented up to 18000\n",
      "[1873, 2017, 2137, 2377, 2473, 2689, 3217, 3529, 3697, 4057, 4657, 5569, 6073, 6337, 7177, 7393, 7417, 7561, 7681, 7753, 8017, 8089, 8233, 8353, 8737, 8761, 9241, 9601, 9769, 11113, 11257, 11617, 12049, 12433, 12457, 12721, 13297, 13633, 13729, 14281, 15073, 15313, 16417, 17977]\n"
     ]
    }
   ],
   "source": [
    "Q = binaryQF([9, 6, 1849])\n",
    "print(Q.represented_positives(18000, 'prime'))"
   ]
  },
  {
   "cell_type": "markdown",
   "metadata": {},
   "source": [
    "<pre style=\"color: maroon;\"><a href=\"https://oeis.org/A139668\">A139668</a>\n",
    "\n",
    "Original form [1, 0, 1848] with discriminant -7392\n",
    "Reduced form  [1, 0, 1848]\n",
    "There are 49 primes represented up to 18000\n",
    "[1873, 2017, 2137, 2377, 2473, 2689, 3217, 3529, 3697, 4057, 4657, 5569,\n",
    "6073, 6337, 7177, 7393, 7417, 7561, 7681, 7753, 8017, 8089, 8233, 8353,\n",
    "8737, 8761, 9241, 9601, 9769, 11113, 11257, 11617, 12049, 12433, 12457,\n",
    "12721, 13297, 13633, 13729, 14281, 15073, 15313, 16417, 16633, 16657,\n",
    "16921, 16993, 17257, 17977]\n",
    "</pre>"
   ]
  },
  {
   "cell_type": "code",
   "execution_count": 19,
   "metadata": {},
   "outputs": [
    {
     "name": "stdout",
     "output_type": "stream",
     "text": [
      "Original form  [1, 0, 1848] with discriminant -7392\n",
      "Reduced form   [1, 0, 1848]\n",
      "There are 49 primes  represented up to 18000\n",
      "[1873, 2017, 2137, 2377, 2473, 2689, 3217, 3529, 3697, 4057, 4657, 5569, 6073, 6337, 7177, 7393, 7417, 7561, 7681, 7753, 8017, 8089, 8233, 8353, 8737, 8761, 9241, 9601, 9769, 11113, 11257, 11617, 12049, 12433, 12457, 12721, 13297, 13633, 13729, 14281, 15073, 15313, 16417, 16633, 16657, 16921, 16993, 17257, 17977]\n"
     ]
    }
   ],
   "source": [
    "Q = binaryQF([1, 0, 1848]) \n",
    "print(Q.represented_positives(18000, 'prime'))"
   ]
  },
  {
   "cell_type": "markdown",
   "metadata": {},
   "source": [
    "<pre style=\"color: maroon;\">\n",
    "\n",
    "Original form [0, 233, 3] with discriminant 54289\n",
    "Square discriminant!\n",
    "There are 4 primes represented up to 2000\n",
    "[3, 311, 1709, 1867]\n",
    "</pre>"
   ]
  },
  {
   "cell_type": "code",
   "execution_count": 20,
   "metadata": {},
   "outputs": [
    {
     "name": "stdout",
     "output_type": "stream",
     "text": [
      "Original form  [0, 233, 3] with discriminant 54289\n",
      "Square discriminant!\n",
      "There are 4 primes  represented up to 2000\n"
     ]
    },
    {
     "data": {
      "text/plain": [
       "[3, 311, 1709, 1867]"
      ]
     },
     "execution_count": 20,
     "metadata": {},
     "output_type": "execute_result"
    }
   ],
   "source": [
    "Q = binaryQF([0, 233, 3])\n",
    "Q.represented_positives(2000, 'prime')"
   ]
  },
  {
   "cell_type": "code",
   "execution_count": 21,
   "metadata": {},
   "outputs": [
    {
     "name": "stdout",
     "output_type": "stream",
     "text": [
      "Original form  [3, 229, -154] with discriminant 54289\n",
      "Square discriminant!\n",
      "There are 4 primes  represented up to 2000\n"
     ]
    },
    {
     "data": {
      "text/plain": [
       "[3, 311, 1709, 1867]"
      ]
     },
     "execution_count": 21,
     "metadata": {},
     "output_type": "execute_result"
    }
   ],
   "source": [
    "Q = binaryQF([3, 229, -154])\n",
    "Q.represented_positives(2000, 'prime')"
   ]
  },
  {
   "cell_type": "markdown",
   "metadata": {},
   "source": [
    "<pre style=\"color: maroon;\"><a href=\"https://oeis.org/A141175\">A141175</a>, <a href=\"https://oeis.org/A007522\">A007522</a>\n",
    "\n",
    "Original form [-1, 0, 8] with discriminant 32\n",
    "Reduced form  [4, 4, -1]\n",
    "There are 6 primes represented up to 100\n",
    "[7, 23, 31, 47, 71, 79]\n",
    "</pre>"
   ]
  },
  {
   "cell_type": "code",
   "execution_count": 22,
   "metadata": {},
   "outputs": [
    {
     "name": "stdout",
     "output_type": "stream",
     "text": [
      "Original form  [-1, 0, 8] with discriminant 32\n",
      "Reduced form   [4, 4, -1]\n",
      "There are 6 primes primitively represented up to 100\n"
     ]
    },
    {
     "data": {
      "text/plain": [
       "[7, 23, 31, 47, 71, 79]"
      ]
     },
     "execution_count": 22,
     "metadata": {},
     "output_type": "execute_result"
    }
   ],
   "source": [
    "Q = binaryQF([-1, 0, 8])\n",
    "Q.represented_positives(100, 'prime')"
   ]
  },
  {
   "cell_type": "markdown",
   "metadata": {},
   "source": [
    "<pre style=\"color: maroon;\"><a href=\"https://oeis.org/A035269\">A035269</a>\n",
    "\n",
    "Original form [-5, 1, 2] with discriminant 41\n",
    "Reduced form  [2, 3, -4]\n",
    "There are 14 positive integers represented up to 33\n",
    "[1, 2, 4, 5, 8, 9, 10, 16, 18, 20, 23, 25, 31, 32]\n",
    "</pre>"
   ]
  },
  {
   "cell_type": "code",
   "execution_count": 23,
   "metadata": {},
   "outputs": [
    {
     "name": "stdout",
     "output_type": "stream",
     "text": [
      "Original form  [-5, 1, 2] with discriminant 41\n",
      "Reduced form   [2, 3, -4]\n",
      "There are 14 positive integers  represented up to 33\n"
     ]
    },
    {
     "data": {
      "text/plain": [
       "[1, 2, 4, 5, 8, 9, 10, 16, 18, 20, 23, 25, 31, 32]"
      ]
     },
     "execution_count": 23,
     "metadata": {},
     "output_type": "execute_result"
    }
   ],
   "source": [
    "Q = binaryQF([-5, 1, 2])\n",
    "Q.represented_positives(33)"
   ]
  },
  {
   "cell_type": "markdown",
   "metadata": {},
   "source": [
    "<pre style=\"color: maroon;\"><a href=\"https://oeis.org/A002313\">A002313</a>\n",
    "\n",
    "Original form [41, 100, 61] with discriminant -4\n",
    "Reduced form  [1,    0,  1]\n",
    "There are 7 primes represented up to 50\n",
    "[2, 5, 13, 17, 29, 37, 41]\n",
    "</pre>"
   ]
  },
  {
   "cell_type": "code",
   "execution_count": 24,
   "metadata": {},
   "outputs": [
    {
     "name": "stdout",
     "output_type": "stream",
     "text": [
      "Original form  [41, 100, 61] with discriminant -4\n",
      "Reduced form   [1, 0, 1]\n",
      "There are 7 primes  represented up to 50\n"
     ]
    },
    {
     "data": {
      "text/plain": [
       "[2, 5, 13, 17, 29, 37, 41]"
      ]
     },
     "execution_count": 24,
     "metadata": {},
     "output_type": "execute_result"
    }
   ],
   "source": [
    "Q = binaryQF([41, 100, 61])\n",
    "Q.represented_positives(50, 'prime')"
   ]
  },
  {
   "cell_type": "markdown",
   "metadata": {},
   "source": [
    "<pre style=\"color: maroon;\"><a href=\"https://oeis.org/A002479\">A002479</a>\n",
    "\n",
    "Original form [-1, -2, -3] with discriminant -8\n",
    "Reduced form  [1,   0,  2]\n",
    "There are 17 positive integers represented up to 30\n",
    "[1, 2, 3, 4, 6, 8, 9, 11, 12, 16, 17, 18, 19, 22, 24, 25, 27]\n",
    "</pre>"
   ]
  },
  {
   "cell_type": "code",
   "execution_count": 25,
   "metadata": {},
   "outputs": [
    {
     "name": "stdout",
     "output_type": "stream",
     "text": [
      "Original form  [-1, -2, -3] with discriminant -8\n",
      "Reduced form   [1, 0, 2]\n",
      "There are 17 positive integers  represented up to 30\n"
     ]
    },
    {
     "data": {
      "text/plain": [
       "[1, 2, 3, 4, 6, 8, 9, 11, 12, 16, 17, 18, 19, 22, 24, 25, 27]"
      ]
     },
     "execution_count": 25,
     "metadata": {},
     "output_type": "execute_result"
    }
   ],
   "source": [
    "Q = binaryQF([-1, -2, -3])\n",
    "Q.represented_positives(30)"
   ]
  },
  {
   "cell_type": "markdown",
   "metadata": {},
   "source": [
    "<pre style=\"color: maroon;\"><a href=\"https://oeis.org/A035251\">A035251</a>\n",
    "\n",
    "Original form [1, 0, -2] with discriminant 8\n",
    "Reduced form  [1, 2, -1]\n",
    "There are 13 positive integers represented up to 30\n",
    "[1, 2, 4, 7, 8, 9, 14, 16, 17, 18, 23, 25, 28]\n",
    "</pre>"
   ]
  },
  {
   "cell_type": "code",
   "execution_count": 26,
   "metadata": {},
   "outputs": [
    {
     "name": "stdout",
     "output_type": "stream",
     "text": [
      "Original form  [1, 0, -2] with discriminant 8\n",
      "Reduced form   [1, 2, -1]\n",
      "There are 13 positive integers  represented up to 30\n"
     ]
    },
    {
     "data": {
      "text/plain": [
       "[1, 2, 4, 7, 8, 9, 14, 16, 17, 18, 23, 25, 28]"
      ]
     },
     "execution_count": 26,
     "metadata": {},
     "output_type": "execute_result"
    }
   ],
   "source": [
    "Q = binaryQF([1, 0, -2])\n",
    "Q.represented_positives(30)"
   ]
  },
  {
   "cell_type": "markdown",
   "metadata": {},
   "source": [
    "<pre style=\"color: maroon;\"><a href=\"https://oeis.org/A002480\">A002480</a>\n",
    "\n",
    "Original form [5, 4, 2] with discriminant -24\n",
    "Reduced form  [2, 0, 3]\n",
    "There are 15 positive integers represented up to 40\n",
    "[2, 3, 5, 8, 11, 12, 14, 18, 20, 21, 27, 29, 30, 32, 35]\n",
    "</pre>"
   ]
  },
  {
   "cell_type": "code",
   "execution_count": 27,
   "metadata": {},
   "outputs": [
    {
     "name": "stdout",
     "output_type": "stream",
     "text": [
      "Original form  [5, 4, 2] with discriminant -24\n",
      "Reduced form   [2, 0, 3]\n",
      "There are 15 positive integers  represented up to 40\n"
     ]
    },
    {
     "data": {
      "text/plain": [
       "[2, 3, 5, 8, 11, 12, 14, 18, 20, 21, 27, 29, 30, 32, 35]"
      ]
     },
     "execution_count": 27,
     "metadata": {},
     "output_type": "execute_result"
    }
   ],
   "source": [
    "Q = binaryQF([5, 4, 2])\n",
    "Q.represented_positives(40)"
   ]
  },
  {
   "cell_type": "markdown",
   "metadata": {},
   "source": [
    "Check if the primes 99713 and 99833 are included."
   ]
  },
  {
   "cell_type": "code",
   "execution_count": 28,
   "metadata": {},
   "outputs": [
    {
     "name": "stdout",
     "output_type": "stream",
     "text": [
      "Original form  [2, -1, 17] with discriminant -135\n",
      "Reduced form   [2, -1, 17]\n",
      "There are 1609 primes  represented up to 100000\n"
     ]
    }
   ],
   "source": [
    "Q = binaryQF([2, -1, 17])\n",
    "Q.represented_positives(100000, 'prime');"
   ]
  },
  {
   "cell_type": "markdown",
   "metadata": {},
   "source": [
    "<div style=\"width: 600px; text-align: justify;\">\n",
    "<hr style=\"width:610px; background-color:maroon; height:8px; margin-right:0; \" />\n",
    "\n",
    "<h2 style=\"color: maroon;\">The OEIS-query function</h2>\n",
    " \n",
    "<p style=\"color: maroon;\">&nbsp;&nbsp;&nbsp;oeis_bqf(q, filter, upto, terse)</p>\n",
    "\n",
    "The function tries to find sequences in the OEIS whose terms are represented\n",
    "by the binary quadratic form with coefficients $q = [a, b, c]$ and which are\n",
    "restricted according to the _filter_, which is one of _all_, _primitively_,\n",
    "_prime_ or _tutti_. The parameter _upto_ gives the upper bound of the search \n",
    "range, which is 100 by default. If _terse_ is _True_ the output will be a \n",
    "one-liner; otherwise the output is more verbose. With the parameter _values_ \n",
    "you can switch off the display of the values; it is set to _True_ by default. \n",
    "To use the function you have to be connected to the Internet."
   ]
  },
  {
   "cell_type": "code",
   "execution_count": 29,
   "metadata": {},
   "outputs": [],
   "source": [
    "def oeis_bqf(\n",
    "    abc: list[int], \n",
    "    upto: int = 100,\n",
    "    filter: str = 'all',\n",
    "    terse: bool = True,\n",
    "    values: bool = True\n",
    "):\n",
    "    \n",
    "    if filter == 'tutti':\n",
    "        oeis_bqf(abc, upto, 'all', terse, values) \n",
    "        oeis_bqf(abc, upto, 'primitively', terse, values) \n",
    "        oeis_bqf(abc, upto, 'prime', terse, values) \n",
    "        return\n",
    "\n",
    "    reps = []\n",
    "    Q = binaryQF(abc)\n",
    "    reps = Q.represented_positives(upto, filter, verbose = not terse)\n",
    "\n",
    "    d = abc[1] ** 2 - 4 * abc[0] * abc[2]\n",
    "    if reps == []:\n",
    "        print(f\"No the representatives below {upto}.\")\n",
    "        print([d], abc, filter)\n",
    "        return\n",
    "\n",
    "    reps = reps[0:min(30, upto)]\n",
    "    if values and not terse: print(reps) \n",
    "    search = oeis(reps, 4)\n",
    "\n",
    "    if search != []:\n",
    "        found = [seq.id() for seq in search] \n",
    "        if not terse: \n",
    "            if found == []: \n",
    "                print(search)\n",
    "                print(\"No sequence found in the OEIS.\")\n",
    "            else: \n",
    "                print()\n",
    "                print(search)\n",
    "                print(found)\n",
    "            print()\n",
    "        else: \n",
    "            print([d], abc, filter, found)\n",
    "            if values: \n",
    "                print(reps) \n",
    "                print()"
   ]
  },
  {
   "cell_type": "markdown",
   "metadata": {},
   "source": [
    "<h3 style=\"color: maroon;\">Examples</h3>"
   ]
  },
  {
   "cell_type": "code",
   "execution_count": 30,
   "metadata": {},
   "outputs": [
    {
     "name": "stdout",
     "output_type": "stream",
     "text": [
      "[-3] [1, 1, 1] all ['A003136']\n",
      "[1, 3, 4, 7, 9, 12, 13, 16, 19, 21, 25, 27, 28, 31, 36, 37, 39, 43, 48, 49, 52, 57, 61, 63, 64, 67, 73, 75, 76, 79]\n",
      "\n",
      "[-3] [1, 1, 1] primitively ['A034017']\n",
      "[1, 3, 7, 13, 19, 21, 31, 37, 39, 43, 49, 57, 61, 67, 73, 79, 91, 93, 97]\n",
      "\n",
      "[-3] [1, 1, 1] prime ['A007645', 'A045331', 'A144919']\n",
      "[3, 7, 13, 19, 31, 37, 43, 61, 67, 73, 79, 97]\n",
      "\n"
     ]
    }
   ],
   "source": [
    "oeis_bqf([1, 1, 1], 100, 'all') \n",
    "oeis_bqf([1, 1, 1], 100, 'primitively')\n",
    "oeis_bqf([1, 1, 1], 100, 'prime')"
   ]
  },
  {
   "cell_type": "code",
   "execution_count": 31,
   "metadata": {},
   "outputs": [
    {
     "name": "stdout",
     "output_type": "stream",
     "text": [
      "[-7] [1, 1, 2] all ['A028951', 'A035248']\n",
      "[-7] [1, 1, 2] primitively ['A244779']\n",
      "[-7] [1, 1, 2] prime ['A045373']\n"
     ]
    }
   ],
   "source": [
    "oeis_bqf([1, 1, 2], 100, 'all', values=False) \n",
    "oeis_bqf([1, 1, 2], 100, 'primitively', values=False) \n",
    "oeis_bqf([1, 1, 2], 100, 'prime', values=False) "
   ]
  },
  {
   "cell_type": "code",
   "execution_count": 32,
   "metadata": {},
   "outputs": [
    {
     "name": "stdout",
     "output_type": "stream",
     "text": [
      "Original form  [-1, 0, 8] with discriminant 32\n",
      "Reduced form   [4, 4, -1]\n",
      "There are 20 positive integers  represented up to 100\n",
      "[1, 4, 7, 8, 16, 23, 28, 31, 32, 36, 47, 56, 63, 64, 68, 71, 72, 79, 92, 100]\n",
      "\n",
      "No sequence found in the OEIS.\n",
      "\n",
      "Original form  [-1, 0, 8] with discriminant 32\n",
      "Reduced form   [4, 4, -1]\n",
      "There are 10 positive integers primitively represented up to 100\n",
      "[4, 7, 8, 23, 31, 47, 56, 68, 71, 79]\n",
      "\n",
      "No sequence found in the OEIS.\n",
      "\n",
      "Original form  [-1, 0, 8] with discriminant 32\n",
      "Reduced form   [4, 4, -1]\n",
      "There are 6 primes primitively represented up to 100\n",
      "[7, 23, 31, 47, 71, 79]\n",
      "\n",
      "0: A007522: Primes of the form 8n+7, that is, primes congruent to -1 mod 8.\n",
      "1: A141175: Duplicate of A007522.\n",
      "2: A165580: Primes of the form 4n+3 for which Sum_{i=1..u} J(i,4n+3) is never zero for any u in range [1,(2n+1)], where J(i,m) is the Jacobi symbol.\n",
      "3: A093870: Triangle read by rows: T(n,k) is the k-th prime = -1 (mod n), 1 <= k <= n.\n",
      "['A007522', 'A141175', 'A165580', 'A093870']\n",
      "\n"
     ]
    },
    {
     "name": "stderr",
     "output_type": "stream",
     "text": [
      "/home/peter/mambaforge/envs/sage/lib/python3.10/site-packages/sage/databases/oeis.py:1152: RuntimeWarning: This sequence is dead: \"A141175: Duplicate of A007522.\"\n",
      "  warn('This sequence is dead: \"{}: {}\"'.format(self.id(), self.name()), RuntimeWarning)\n"
     ]
    }
   ],
   "source": [
    "oeis_bqf([-1, 0, 8], 100, 'all', terse=False) \n",
    "oeis_bqf([-1, 0, 8], 100, 'primitively', terse=False) \n",
    "oeis_bqf([-1, 0, 8], 100, 'prime', terse=False) "
   ]
  },
  {
   "cell_type": "code",
   "execution_count": 33,
   "metadata": {},
   "outputs": [
    {
     "name": "stdout",
     "output_type": "stream",
     "text": [
      "[-3] [1, 1, 1] all ['A003136']\n",
      "[1, 3, 4, 7, 9, 12, 13, 16, 19, 21, 25, 27, 28, 31, 36, 37, 39, 43, 48, 49, 52, 57, 61, 63, 64, 67, 73, 75, 76, 79]\n",
      "\n",
      "[-3] [1, 1, 1] primitively ['A034017']\n",
      "[1, 3, 7, 13, 19, 21, 31, 37, 39, 43, 49, 57, 61, 67, 73, 79, 91, 93, 97]\n",
      "\n",
      "[-3] [1, 1, 1] prime ['A007645', 'A045331', 'A144919']\n",
      "[3, 7, 13, 19, 31, 37, 43, 61, 67, 73, 79, 97]\n",
      "\n"
     ]
    }
   ],
   "source": [
    "oeis_bqf([1, 1, 1], 100, 'tutti') "
   ]
  },
  {
   "cell_type": "code",
   "execution_count": 34,
   "metadata": {},
   "outputs": [
    {
     "name": "stdout",
     "output_type": "stream",
     "text": [
      "Original form  [1, 1, -1] with discriminant 5\n",
      "Reduced form   [1, 1, -1]\n",
      "There are 29 positive integers  represented up to 100\n",
      "[1, 4, 5, 9, 11, 16, 19, 20, 25, 29, 31, 36, 41, 44, 45, 49, 55, 59, 61, 64, 71, 76, 79, 80, 81, 89, 95, 99, 100]\n",
      "\n",
      "0: A031363: Positive numbers of the form x^2 + xy - y^2; or, of the form 5x^2 - y^2.\n",
      "['A031363']\n",
      "\n",
      "Original form  [1, 1, -1] with discriminant 5\n",
      "Reduced form   [1, 1, -1]\n",
      "There are 14 positive integers primitively represented up to 100\n",
      "[1, 5, 11, 19, 29, 31, 41, 55, 59, 61, 71, 79, 89, 95]\n",
      "\n",
      "0: A089270: Positive numbers represented by the integer binary quadratic form x^2 + x*y - y^2 with x and y relatively prime.\n",
      "1: A275068: Squarefree numbers in A022344.\n",
      "['A089270', 'A275068']\n",
      "\n",
      "Original form  [1, 1, -1] with discriminant 5\n",
      "Reduced form   [1, 1, -1]\n",
      "There are 11 primes primitively represented up to 100\n",
      "[5, 11, 19, 29, 31, 41, 59, 61, 71, 79, 89]\n",
      "\n",
      "0: A038872: Primes congruent to {0, 1, 4} mod 5.\n",
      "1: A141158: Duplicate of A038872.\n",
      "['A038872', 'A141158']\n",
      "\n"
     ]
    },
    {
     "name": "stderr",
     "output_type": "stream",
     "text": [
      "/home/peter/mambaforge/envs/sage/lib/python3.10/site-packages/sage/databases/oeis.py:1152: RuntimeWarning: This sequence is dead: \"A141158: Duplicate of A038872.\"\n",
      "  warn('This sequence is dead: \"{}: {}\"'.format(self.id(), self.name()), RuntimeWarning)\n"
     ]
    }
   ],
   "source": [
    "oeis_bqf([1, 1, -1], 100, 'tutti', terse=False) "
   ]
  },
  {
   "cell_type": "markdown",
   "metadata": {},
   "source": [
    "<div style=\"width: 600px; text-align: justify;\">\n",
    "<hr style=\"width:610px; background-color:maroon; height:8px; margin-right:0; \" />\n",
    "\n",
    "<h2 style=\"color: maroon;\">List of indefinite quadratic forms</h2>\n",
    "\n",
    "</div>"
   ]
  },
  {
   "cell_type": "code",
   "execution_count": 35,
   "metadata": {},
   "outputs": [],
   "source": [
    "IQF = [[1, 0, -1], [1, 1, -1], [1, 2, -1], [1, 1, -2], [1, 2,-2], \n",
    "[1, 3,-1], [-1,2,3], [1,3,-2], [1, 4,-1], [1, 3,-3], [1, 4,-2],\n",
    "[-1, 3, 4], [1, 4,-3], [1, 5,-1], [1, 4,-4], [1, 5,-2], [-3, 0, 3], \n",
    "[1, 5,-3], [1, 6,-1], [1, 5,-4], [1, 6,-2], [1, 5,-5], [1, 6,-3], \n",
    "[-3, 1, 4], [1, 6,-4], [1, 7,-1], [1, 6,-5], [3,3,-4], [1,6,-6], \n",
    "[3,5,-3], [-4, 4, 3], [4,1,-4], [1,8,-3], [1,10,-9], [1,15,-1]]\n",
    "\n",
    "def ListIndefiniteQF() -> None:\n",
    "    for q in IQF:\n",
    "        oeis_bqf(q, 200, 'tutti', terse=True, values=False)"
   ]
  },
  {
   "cell_type": "code",
   "execution_count": 36,
   "metadata": {},
   "outputs": [
    {
     "name": "stdout",
     "output_type": "stream",
     "text": [
      "[4] [1, 0, -1] all ['A042965', 'A348004', 'A122906']\n",
      "[4] [1, 0, -1] primitively ['A047486']\n",
      "[4] [1, 0, -1] prime ['A000040', 'A008578', 'A065091', 'A006005']\n",
      "[5] [1, 1, -1] all ['A031363']\n",
      "[5] [1, 1, -1] primitively ['A089270']\n",
      "[5] [1, 1, -1] prime ['A038872', 'A141158']\n",
      "[8] [1, 2, -1] all ['A035251']\n",
      "[8] [1, 2, -1] primitively ['A057126']\n",
      "[8] [1, 2, -1] prime ['A038873', 'A049590', 'A049594', 'A141131']\n",
      "[9] [1, 1, -2] all ['A056991', 'A242660']\n",
      "[9] [1, 1, -2] primitively ['A244713']\n",
      "[9] [1, 1, -2] prime ['A002476', 'A007645', 'A045331', 'A045375']\n",
      "[12] [1, 2, -2] all ['A084916']\n",
      "[12] [1, 2, -2] primitively ['A243655']\n",
      "[12] [1, 2, -2] prime ['A068228', 'A141122']\n",
      "[13] [1, 3, -1] all ['A035256']\n",
      "[13] [1, 3, -1] primitively ['A243656']\n",
      "[13] [1, 3, -1] prime ['A038883', 'A141188']\n",
      "[16] [-1, 2, 3] all []\n",
      "[16] [-1, 2, 3] primitively []\n",
      "[16] [-1, 2, 3] prime ['A002145', 'A045326']\n",
      "[17] [1, 3, -2] all ['A035258']\n",
      "[17] [1, 3, -2] primitively []\n",
      "[17] [1, 3, -2] prime ['A038889']\n",
      "[20] [1, 4, -1] all ['A031363']\n",
      "[20] [1, 4, -1] primitively []\n",
      "[20] [1, 4, -1] prime ['A038872', 'A141158']\n",
      "[21] [1, 3, -3] all ['A243172']\n",
      "[21] [1, 3, -3] primitively []\n",
      "[21] [1, 3, -3] prime ['A141159', 'A139492']\n",
      "[24] [1, 4, -2] all ['A242661']\n",
      "[24] [1, 4, -2] primitively []\n",
      "[24] [1, 4, -2] prime ['A141170']\n",
      "[25] [-1, 3, 4] all []\n",
      "[25] [-1, 3, 4] primitively []\n",
      "[25] [-1, 3, 4] prime ['A030433', 'A327346', 'A004618', 'A045457']\n",
      "[28] [1, 4, -3] all ['A242662']\n",
      "[28] [1, 4, -3] primitively ['A358946']\n",
      "[28] [1, 4, -3] prime ['A141172']\n",
      "[29] [1, 5, -1] all ['A035264']\n",
      "[29] [1, 5, -1] primitively []\n",
      "[29] [1, 5, -1] prime ['A038901']\n",
      "[32] [1, 4, -4] all ['A242663']\n",
      "[32] [1, 4, -4] primitively []\n",
      "[32] [1, 4, -4] prime ['A007519', 'A141174', 'A077316', 'A209544']\n",
      "[33] [1, 5, -2] all ['A243185']\n",
      "[33] [1, 5, -2] primitively []\n",
      "[33] [1, 5, -2] prime ['A141177']\n",
      "[36] [-3, 0, 3] all ['A136290']\n",
      "[36] [-3, 0, 3] primitively []\n",
      "[36] [-3, 0, 3] prime []\n",
      "[37] [1, 5, -3] all ['A035267']\n",
      "[37] [1, 5, -3] primitively []\n",
      "[37] [1, 5, -3] prime ['A141178', 'A038913']\n",
      "[40] [1, 6, -1] all ['A242664']\n",
      "[40] [1, 6, -1] primitively []\n",
      "[40] [1, 6, -1] prime ['A141180']\n",
      "[41] [1, 5, -4] all ['A035269']\n",
      "[41] [1, 5, -4] primitively []\n",
      "[41] [1, 5, -4] prime ['A141181', 'A038919']\n",
      "[44] [1, 6, -2] all ['A243166']\n",
      "[44] [1, 6, -2] primitively []\n",
      "[44] [1, 6, -2] prime ['A141182']\n",
      "[45] [1, 5, -5] all ['A243174']\n",
      "[45] [1, 5, -5] primitively []\n",
      "[45] [1, 5, -5] prime ['A033212', 'A141184']\n",
      "[48] [1, 6, -3] all ['A243168']\n",
      "[48] [1, 6, -3] primitively ['A244291']\n",
      "[48] [1, 6, -3] prime ['A068228', 'A141122']\n",
      "[49] [-3, 1, 4] all []\n",
      "[49] [-3, 1, 4] primitively []\n",
      "[49] [-3, 1, 4] prime ['A045387']\n",
      "[52] [1, 6, -4] all ['A035256']\n",
      "[52] [1, 6, -4] primitively []\n",
      "[52] [1, 6, -4] prime ['A038883', 'A141188']\n",
      "[53] [1, 7, -1] all ['A243191']\n",
      "[53] [1, 7, -1] primitively []\n",
      "[53] [1, 7, -1] prime ['A141189', 'A038931']\n",
      "[56] [1, 6, -5] all ['A243186']\n",
      "[56] [1, 6, -5] primitively []\n",
      "[56] [1, 6, -5] prime ['A141190']\n",
      "[57] [3, 3, -4] all []\n",
      "[57] [3, 3, -4] primitively []\n",
      "[57] [3, 3, -4] prime ['A141192']\n",
      "[60] [1, 6, -6] all ['A243188']\n",
      "[60] [1, 6, -6] primitively []\n",
      "[60] [1, 6, -6] prime ['A107152', 'A033316', 'A341083', 'A180302']\n",
      "[61] [3, 5, -3] all ['A243654']\n",
      "[61] [3, 5, -3] primitively []\n",
      "[61] [3, 5, -3] prime ['A141215', 'A038941']\n",
      "[64] [-4, 4, 3] all []\n",
      "[64] [-4, 4, 3] primitively []\n",
      "[64] [-4, 4, 3] prime ['A007520', 'A051085', 'A051101', 'A163183']\n",
      "[65] [4, 1, -4] all ['A243170']\n",
      "[65] [4, 1, -4] primitively []\n",
      "[65] [4, 1, -4] prime ['A141111']\n",
      "[76] [1, 8, -3] all []\n",
      "[76] [1, 8, -3] primitively []\n",
      "[76] [1, 8, -3] prime ['A142956']\n",
      "[136] [1, 10, -9] all []\n",
      "[136] [1, 10, -9] primitively []\n",
      "[136] [1, 10, -9] prime []\n",
      "[229] [1, 15, -1] all ['A309136']\n",
      "[229] [1, 15, -1] primitively []\n",
      "[229] [1, 15, -1] prime ['A141166']\n"
     ]
    }
   ],
   "source": [
    "ListIndefiniteQF()"
   ]
  },
  {
   "cell_type": "markdown",
   "metadata": {},
   "source": [
    "<div style=\"width: 600px; text-align: justify;\">\n",
    "<hr style=\"width:610px; background-color:maroon; height:8px; margin-right:0; \" />\n",
    "\n",
    "<h2 style=\"color: maroon;\">List of positive definite quadratic forms</h2>"
   ]
  },
  {
   "cell_type": "code",
   "execution_count": 37,
   "metadata": {},
   "outputs": [],
   "source": [
    "def PosDefQF() -> Generator[list[int], Any, NoReturn]:\n",
    "\n",
    "    c = 1\n",
    "    while True:\n",
    "        yield [1, 1, c]\n",
    "        yield [1, 0, c]\n",
    "        c += 1\n",
    "\n",
    "def ListPosDefQF(\n",
    "    len: int, \n",
    "    filter: str = 'all',\n",
    "    terse: bool = False\n",
    ") -> None:\n",
    "\n",
    "    F = PosDefQF()\n",
    "    for _ in range(len):\n",
    "        oeis_bqf(next(F), 200, filter, terse=terse)"
   ]
  },
  {
   "cell_type": "code",
   "execution_count": 38,
   "metadata": {},
   "outputs": [
    {
     "name": "stdout",
     "output_type": "stream",
     "text": [
      "Original form  [1, 1, 1] with discriminant -3\n",
      "Reduced form   [1, 1, 1]\n",
      "There are 66 positive integers  represented up to 200\n",
      "[1, 3, 4, 7, 9, 12, 13, 16, 19, 21, 25, 27, 28, 31, 36, 37, 39, 43, 48, 49, 52, 57, 61, 63, 64, 67, 73, 75, 76, 79]\n",
      "\n",
      "0: A003136: Loeschian numbers: numbers of the form x^2 + xy + y^2; norms of vectors in A2 lattice.\n",
      "['A003136']\n",
      "\n",
      "Original form  [1, 0, 1] with discriminant -4\n",
      "Reduced form   [1, 0, 1]\n",
      "There are 79 positive integers  represented up to 200\n",
      "[1, 2, 4, 5, 8, 9, 10, 13, 16, 17, 18, 20, 25, 26, 29, 32, 34, 36, 37, 40, 41, 45, 49, 50, 52, 53, 58, 61, 64, 65]\n",
      "\n",
      "0: A001481: Numbers that are the sum of 2 squares.\n",
      "['A001481']\n",
      "\n",
      "Original form  [1, 1, 2] with discriminant -7\n",
      "Reduced form   [1, 1, 2]\n",
      "There are 75 positive integers  represented up to 200\n",
      "[1, 2, 4, 7, 8, 9, 11, 14, 16, 18, 22, 23, 25, 28, 29, 32, 36, 37, 43, 44, 46, 49, 50, 53, 56, 58, 63, 64, 67, 71]\n",
      "\n",
      "0: A028951: Numbers represented by quadratic form with Gram matrix [ 2, 1; 1, 4 ] (or the Kleinian 2-d lattice, see A002652).\n",
      "1: A035248: Indices of nonzero terms in expansion of Dirichlet series Product_p (1-(Kronecker(m,p)+1)*p^(-s)+Kronecker(m,p)*p^(-2s))^(-1) for m= -7 (A035182).\n",
      "['A028951', 'A035248']\n",
      "\n",
      "Original form  [1, 0, 2] with discriminant -8\n",
      "Reduced form   [1, 0, 2]\n",
      "There are 91 positive integers  represented up to 200\n",
      "[1, 2, 3, 4, 6, 8, 9, 11, 12, 16, 17, 18, 19, 22, 24, 25, 27, 32, 33, 34, 36, 38, 41, 43, 44, 48, 49, 50, 51, 54]\n",
      "\n",
      "0: A002479: Numbers of the form x^2 + 2*y^2.\n",
      "['A002479']\n",
      "\n"
     ]
    }
   ],
   "source": [
    "ListPosDefQF(4, 'all')  # to see more call with n = 100"
   ]
  },
  {
   "cell_type": "code",
   "execution_count": 39,
   "metadata": {},
   "outputs": [
    {
     "name": "stdout",
     "output_type": "stream",
     "text": [
      "[-3] [1, 1, 1] primitively ['A034017']\n",
      "[1, 3, 7, 13, 19, 21, 31, 37, 39, 43, 49, 57, 61, 67, 73, 79, 91, 93, 97, 103, 109, 111, 127, 129, 133, 139, 147, 151, 157, 163]\n",
      "\n",
      "[-4] [1, 0, 1] primitively ['A008784']\n",
      "[1, 2, 5, 10, 13, 17, 25, 26, 29, 34, 37, 41, 50, 53, 58, 61, 65, 73, 74, 82, 85, 89, 97, 101, 106, 109, 113, 122, 125, 130]\n",
      "\n",
      "[-7] [1, 1, 2] primitively ['A244779']\n",
      "[1, 2, 4, 7, 8, 11, 14, 16, 22, 23, 28, 29, 32, 37, 43, 44, 46, 53, 56, 58, 64, 67, 71, 74, 77, 79, 86, 88, 92, 106]\n",
      "\n",
      "[-8] [1, 0, 2] primitively ['A057127']\n",
      "[1, 2, 3, 6, 9, 11, 17, 18, 19, 22, 27, 33, 34, 38, 41, 43, 51, 54, 57, 59, 66, 67, 73, 81, 82, 83, 86, 89, 97, 99]\n",
      "\n",
      "[-11] [1, 1, 3] primitively ['A244780']\n",
      "[1, 3, 5, 9, 11, 15, 23, 25, 27, 31, 33, 37, 45, 47, 53, 55, 59, 67, 69, 71, 75, 81, 89, 93, 97, 99, 103, 111, 113, 115]\n",
      "\n",
      "[-12] [1, 0, 3] primitively ['A244819']\n",
      "[1, 3, 4, 7, 12, 13, 19, 21, 28, 31, 37, 39, 43, 49, 52, 57, 61, 67, 73, 76, 79, 84, 91, 93, 97, 103, 109, 111, 124, 127]\n",
      "\n"
     ]
    }
   ],
   "source": [
    "ListPosDefQF(6, 'primitively', terse=True)  # to see more call with n = 100"
   ]
  },
  {
   "cell_type": "code",
   "execution_count": 40,
   "metadata": {},
   "outputs": [
    {
     "name": "stdout",
     "output_type": "stream",
     "text": [
      "Original form  [1, 1, 1] with discriminant -3\n",
      "Reduced form   [1, 1, 1]\n",
      "There are 22 primes  represented up to 200\n",
      "[3, 7, 13, 19, 31, 37, 43, 61, 67, 73, 79, 97, 103, 109, 127, 139, 151, 157, 163, 181, 193, 199]\n",
      "\n",
      "0: A007645: Generalized cuban primes: primes of the form x^2 + xy + y^2; or primes of the form x^2 + 3*y^2; or primes == 0 or 1 (mod 3).\n",
      "1: A045331: Primes congruent to {1, 2, 3} mod 6; or, -3 is a square mod p.\n",
      "2: A144919: Duplicate of A007645.\n",
      "['A007645', 'A045331', 'A144919']\n",
      "\n",
      "Original form  [1, 0, 1] with discriminant -4\n",
      "Reduced form   [1, 0, 1]\n",
      "There are 22 primes  represented up to 200\n",
      "[2, 5, 13, 17, 29, 37, 41, 53, 61, 73, 89, 97, 101, 109, 113, 137, 149, 157, 173, 181, 193, 197]\n"
     ]
    },
    {
     "name": "stderr",
     "output_type": "stream",
     "text": [
      "/home/peter/mambaforge/envs/sage/lib/python3.10/site-packages/sage/databases/oeis.py:1152: RuntimeWarning: This sequence is dead: \"A144919: Duplicate of A007645.\"\n",
      "  warn('This sequence is dead: \"{}: {}\"'.format(self.id(), self.name()), RuntimeWarning)\n"
     ]
    },
    {
     "name": "stdout",
     "output_type": "stream",
     "text": [
      "\n",
      "0: A002313: Primes congruent to 1 or 2 modulo 4; or, primes of form x^2 + y^2; or, -1 is a square mod p.\n",
      "['A002313']\n",
      "\n",
      "Original form  [1, 1, 2] with discriminant -7\n",
      "Reduced form   [1, 1, 2]\n",
      "There are 23 primes  represented up to 200\n",
      "[2, 7, 11, 23, 29, 37, 43, 53, 67, 71, 79, 107, 109, 113, 127, 137, 149, 151, 163, 179, 191, 193, 197]\n",
      "\n",
      "0: A045373: Primes congruent to {0, 1, 2, 4} mod 7.\n",
      "['A045373']\n",
      "\n",
      "Original form  [1, 0, 2] with discriminant -8\n",
      "Reduced form   [1, 0, 2]\n",
      "There are 21 primes  represented up to 200\n",
      "[2, 3, 11, 17, 19, 41, 43, 59, 67, 73, 83, 89, 97, 107, 113, 131, 137, 139, 163, 179, 193]\n",
      "\n",
      "0: A033203: Primes p congruent to {1, 2, 3} (mod 8); or primes p of form x^2 + 2*y^2; or primes p such that x^2 = -2 has a solution mod p.\n",
      "1: A051100: Primes p such that x^62 = -2 has a solution mod p.\n",
      "2: A051088: Primes p such that x^38 = -2 has a solution mod p.\n",
      "['A033203', 'A051100', 'A051088']\n",
      "\n"
     ]
    }
   ],
   "source": [
    "ListPosDefQF(4, 'prime')  # to see more call with n = 100"
   ]
  },
  {
   "cell_type": "markdown",
   "metadata": {},
   "source": [
    "<div style=\"width: 600px; text-align: justify;\">\n",
    "<hr style=\"width:610px; background-color:maroon; height:8px; margin-right:0; \" />\n",
    "\n",
    "<h2 style=\"color: maroon;\">Number of represented integers below N as a function of the discriminant</h2>\n",
    "<p>\n",
    "Looking at the examples above the impression arises that the number of integers which are represented by a positive definite form decreases when the absolute value of the discriminant increases. The following numerical experiment confirms this. The clear upper bound in the plot below calls for an explanation.\n",
    "</p>\n",
    "</div>"
   ]
  },
  {
   "cell_type": "code",
   "execution_count": 41,
   "metadata": {},
   "outputs": [],
   "source": [
    "def NumberOfPosDefQF(\n",
    "    n: int,\n",
    "    belowOrEqual: int,\n",
    "    filter: str = 'all'\n",
    ") -> list[Any]:\n",
    "\n",
    "    F = PosDefQF()\n",
    "    L = []\n",
    "    for _ in range(n):\n",
    "        q = next(F)\n",
    "        Q = binaryQF(q)\n",
    "        rep = Q.represented_positives(belowOrEqual, filter, verbose = False)\n",
    "        d = Q.discriminant()\n",
    "        L.append((-d, len(rep)))\n",
    "    return L"
   ]
  },
  {
   "cell_type": "code",
   "execution_count": 42,
   "metadata": {},
   "outputs": [
    {
     "name": "stdout",
     "output_type": "stream",
     "text": [
      "[(3, 36), (4, 43), (7, 41), (8, 51), (11, 39), (12, 36), (15, 30), (16, 32), (19, 36), (20, 32)]\n"
     ]
    }
   ],
   "source": [
    "print(NumberOfPosDefQF(10, 100))"
   ]
  },
  {
   "cell_type": "code",
   "execution_count": 43,
   "metadata": {},
   "outputs": [],
   "source": [
    "# This might take a while...\n",
    "A = NumberOfPosDefQF(500, 10000, 'all')\n",
    "R = NumberOfPosDefQF(500, 10000, 'primitively')\n",
    "P = NumberOfPosDefQF(500, 10000, 'prime')"
   ]
  },
  {
   "cell_type": "code",
   "execution_count": 44,
   "metadata": {},
   "outputs": [
    {
     "data": {
      "image/png": "[encoded data removed]",
      "text/plain": [
       "Graphics object consisting of 3 graphics primitives"
      ]
     },
     "metadata": {},
     "output_type": "display_data"
    }
   ],
   "source": [
    "allplot   = list_plot(A[5::], color='blue',   legend_label='all reps')\n",
    "primeplot = list_plot(P[5::], color='purple', legend_label='prime reps')\n",
    "primitive = list_plot(R[5::], color='green',  legend_label='primitive reps')\n",
    "\n",
    "combi = allplot + primeplot + primitive\n",
    "combi.axes_labels(\n",
    "    ['positive definite QF with discriminant -n',\n",
    "    'number of reps below 100000']\n",
    ")\n",
    "\n",
    "show(combi, \n",
    "    title='Number of reps as a function of the discriminant.',\n",
    "    frame=True,\n",
    "    legend_loc=\"upper right\"\n",
    ")"
   ]
  },
  {
   "cell_type": "markdown",
   "metadata": {},
   "source": [
    "<div style=\"width: 600px; text-align: justify;\">\n",
    "<h2 style=\"color: maroon;\">References</h2>\n",
    "<ul>\n",
    "<li>Johannes Buchmann, Ulrich Vollmer: Binary Quadratic Forms, Springer, Berlin 2007.</li>\n",
    "<li>Pete L. Clark, Topics in Arithmetic Geometry II, Handout 3: <a href=\"http://archive.wikiwix.com/cache/?url=http://math.uga.edu/~pete/8430notes3.pdf&amp;title=%C2%AB%C2%A0Topics%20in%20Arithmetic%20Geometry%20II%2C%20Handout%203%3A%20Elementary%20Theory%20of%20Quadratic%20Forms%C2%A0%C2%BB\">Elementary Theory of Quadratic Forms</a>.</li>\n",
    "<li>Henri Cohen, A Course in Computational Algebraic Number Theory, Springer 1993.</li>\n",
    "<li>Franz Lemmermeyer, <a href=\"http://www.rzuser.uni-heidelberg.de/~hb3/publ/bf.pdf\">Binary Quadratic Forms</a>, 2010.</li>\n",
    "<li>Andrew Sutherland, Introduction to Arithmetic Geometry,\n",
    "<a href=\"http://ocw.mit.edu/courses/mathematics/18-782-introduction-to-arithmetic-geometry-fall-2013/lecture-notes/MIT18_782F13_lec9.pdf\">Lecture 9: Quadratic forms</a>, MIT Open Course Ware, Fall 2013. &nbsp; <span style=\"font-size: small; font-style: italic\">Of special interest is definition 9.7 and theorem 9.9. Sutherland writes: &quot;The \n",
    "constraint that x!=0 is critical, otherwise every quadratic form would represent 0; the quadratic forms that represent 0 are of particular interest to us.&quot;</span></li>\n",
    "<li>Elementary Number Theory – Section 3.2 <a href=\"http://www.math.ntu.edu.tw/~hchu/Number/ElementaryNumberTheory[3-2].pdf\">Binary Quadratic Forms</a>. <br />\n",
    "Elementary Number Theory – Section 3.3 <a href=\"http://www.math.ntu.edu.tw/~hchu/Number/ElementaryNumberTheory[3-3].pdf\">Sums of two squares</a>.</li>\n",
    "</ul>\n",
    "</div>\n"
   ]
  }
 ],
 "metadata": {
  "kernelspec": {
   "display_name": "SageMath 9.8",
   "language": "sage",
   "name": "sagemath-9.8"
  },
  "language_info": {
   "codemirror_mode": {
    "name": "ipython",
    "version": 3
   },
   "file_extension": ".py",
   "mimetype": "text/x-python",
   "name": "python",
   "nbconvert_exporter": "python",
   "pygments_lexer": "ipython3",
   "version": "3.10.9"
  }
 },
 "nbformat": 4,
 "nbformat_minor": 1
}
